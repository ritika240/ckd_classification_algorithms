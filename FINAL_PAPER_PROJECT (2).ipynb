{
  "nbformat": 4,
  "nbformat_minor": 0,
  "metadata": {
    "colab": {
      "private_outputs": true,
      "provenance": []
    },
    "kernelspec": {
      "name": "python3",
      "display_name": "Python 3"
    },
    "language_info": {
      "name": "python"
    }
  },
  "cells": [
    {
      "cell_type": "code",
      "execution_count": null,
      "metadata": {
        "id": "z6nOjHx8kPn7"
      },
      "outputs": [],
      "source": [
        "import pandas as pd\n",
        "import numpy as np\n",
        "import matplotlib.pyplot as plt\n",
        "import seaborn as sns\n",
        "import plotly.express as px\n",
        "\n",
        "import warnings\n",
        "warnings.filterwarnings('ignore')\n",
        "\n",
        "plt.style.use('fivethirtyeight')\n",
        "%matplotlib inline\n",
        "pd.set_option('display.max_columns', 26)"
      ]
    },
    {
      "cell_type": "code",
      "source": [
        "!pip install opendatasets\n",
        "!pip install pandas"
      ],
      "metadata": {
        "id": "pxs4INidkTlw"
      },
      "execution_count": null,
      "outputs": []
    },
    
    {
      "cell_type": "code",
      "source": [
        "import opendatasets as od\n",
        "import pandas\n",
        "  \n",
        "od.download(\n",
        "    \"https://www.kaggle.com/datasets/mansoordaku/ckdisease\")"
      ],
      "metadata": {
        "id": "kaydNZvokcGP"
      },
      "execution_count": null,
      "outputs": []
    },
    {
      "cell_type": "code",
      "source": [
        "# loading data\n",
        "\n",
        "df= pd.read_csv('../content/ckdisease/kidney_disease.csv')\n",
        "df.head()"
      ],
      "metadata": {
        "id": "YuaIDU6-km0o"
      },
      "execution_count": null,
      "outputs": []
    },
    {
      "cell_type": "code",
      "source": [
        "df.shape"
      ],
      "metadata": {
        "id": "pEUwcyAik9VN"
      },
      "execution_count": null,
      "outputs": []
    },
    {
      "cell_type": "code",
      "source": [
        "# dropping id column\n",
        "df.drop('id', axis = 1, inplace = True)"
      ],
      "metadata": {
        "id": "nRQ4MLoblBHW"
      },
      "execution_count": null,
      "outputs": []
    },
    {
      "cell_type": "code",
      "source": [
        "# rename column names to make it more user-friendly\n",
        "\n",
        "df.columns = ['age', 'blood_pressure', 'specific_gravity', 'albumin', 'sugar', 'red_blood_cells', 'pus_cell',\n",
        "              'pus_cell_clumps', 'bacteria', 'blood_glucose_random', 'blood_urea', 'serum_creatinine', 'sodium',\n",
        "              'potassium', 'haemoglobin', 'packed_cell_volume', 'white_blood_cell_count', 'red_blood_cell_count',\n",
        "              'hypertension', 'diabetes_mellitus', 'coronary_artery_disease', 'appetite', 'peda_edema',\n",
        "              'aanemia', 'class']"
      ],
      "metadata": {
        "id": "rZvkV-U6lFN2"
      },
      "execution_count": null,
      "outputs": []
    },
    {
      "cell_type": "code",
      "source": [
        "df.head()"
      ],
      "metadata": {
        "id": "E53S6sf6lJmC"
      },
      "execution_count": null,
      "outputs": []
    },
    {
      "cell_type": "code",
      "source": [
        "df.describe()"
      ],
      "metadata": {
        "id": "QkyW1TXjlNMP"
      },
      "execution_count": null,
      "outputs": []
    },
    {
      "cell_type": "code",
      "source": [
        "df.info()"
      ],
      "metadata": {
        "id": "3PAo4I-ClRqK"
      },
      "execution_count": null,
      "outputs": []
    },
    {
      "cell_type": "code",
      "source": [
        "# converting necessary columns to numerical type\n",
        "\n",
        "df['packed_cell_volume'] = pd.to_numeric(df['packed_cell_volume'], errors='coerce')\n",
        "df['white_blood_cell_count'] = pd.to_numeric(df['white_blood_cell_count'], errors='coerce')\n",
        "df['red_blood_cell_count'] = pd.to_numeric(df['red_blood_cell_count'], errors='coerce')"
      ],
      "metadata": {
        "id": "5d086anXlW5C"
      },
      "execution_count": null,
      "outputs": []
    },
    {
      "cell_type": "code",
      "source": [
        "df.info()"
      ],
      "metadata": {
        "id": "Lr3xrNoGlbc8"
      },
      "execution_count": null,
      "outputs": []
    },
    {
      "cell_type": "code",
      "source": [
        "# Extracting categorical and numerical columns\n",
        "\n",
        "cat_cols = [col for col in df.columns if df[col].dtype == 'object']\n",
        "num_cols = [col for col in df.columns if df[col].dtype != 'object']"
      ],
      "metadata": {
        "id": "9JpnvXYvlgNl"
      },
      "execution_count": null,
      "outputs": []
    },
    {
      "cell_type": "code",
      "source": [
        "# looking at unique values in categorical columns\n",
        "\n",
        "for col in cat_cols:\n",
        "    print(f\"{col} has {df[col].unique()} values\\n\")"
      ],
      "metadata": {
        "id": "S5FfxEJOlk3A"
      },
      "execution_count": null,
      "outputs": []
    },
    {
      "cell_type": "code",
      "source": [
        "# replace incorrect values\n",
        "\n",
        "df['diabetes_mellitus'].replace(to_replace = {'\\tno':'no','\\tyes':'yes',' yes':'yes'},inplace=True)\n",
        "\n",
        "df['coronary_artery_disease'] = df['coronary_artery_disease'].replace(to_replace = '\\tno', value='no')\n",
        "\n",
        "df['class'] = df['class'].replace(to_replace = {'ckd\\t': 'ckd', 'notckd': 'not ckd'})"
      ],
      "metadata": {
        "id": "pCeY3X2ilrm_"
      },
      "execution_count": null,
      "outputs": []
    },
    {
      "cell_type": "code",
      "source": [
        "df['class'] = df['class'].map({'ckd': 0, 'not ckd': 1})\n",
        "df['class'] = pd.to_numeric(df['class'], errors='coerce')"
      ],
      "metadata": {
        "id": "rbNjMF9Alwsh"
      },
      "execution_count": null,
      "outputs": []
    },
    {
      "cell_type": "code",
      "source": [
        "cols = ['diabetes_mellitus', 'coronary_artery_disease', 'class']\n",
        "\n",
        "for col in cols:\n",
        "    print(f\"{col} has {df[col].unique()} values\\n\")"
      ],
      "metadata": {
        "id": "wP_1UDRUl09Z"
      },
      "execution_count": null,
      "outputs": []
    },
    {
      "cell_type": "code",
      "source": [
        "# checking numerical features distribution\n",
        "\n",
        "plt.figure(figsize = (20, 15))\n",
        "plotnumber = 1\n",
        "\n",
        "for column in num_cols:\n",
        "    if plotnumber <= 14:\n",
        "        ax = plt.subplot(3, 5, plotnumber)\n",
        "        sns.distplot(df[column])\n",
        "        plt.xlabel(column)\n",
        "        \n",
        "    plotnumber += 1\n",
        "\n",
        "plt.tight_layout()\n",
        "plt.show()"
      ],
      "metadata": {
        "id": "uY0pMBd5l9BQ"
      },
      "execution_count": null,
      "outputs": []
    },
    {
      "cell_type": "code",
      "source": [
        "# looking at categorical columns\n",
        "\n",
        "plt.figure(figsize = (20, 15))\n",
        "plotnumber = 1\n",
        "\n",
        "for column in cat_cols:\n",
        "    if plotnumber <= 11:\n",
        "        ax = plt.subplot(3, 4, plotnumber)\n",
        "        sns.countplot(df[column], palette = 'magma')\n",
        "        plt.xlabel(column)\n",
        "        \n",
        "    plotnumber += 1\n",
        "\n",
        "plt.tight_layout()\n",
        "plt.show()"
      ],
      "metadata": {
        "id": "R9gMV5sAmEXh"
      },
      "execution_count": null,
      "outputs": []
    },
    {
      "cell_type": "code",
      "source": [
        "# heatmap of data\n",
        "\n",
        "plt.figure(figsize = (15, 8))\n",
        "\n",
        "sns.heatmap(df.corr(), annot = True, linewidths = 2, linecolor = 'lightgrey')\n",
        "plt.show()"
      ],
      "metadata": {
        "id": "Cd5sJaNToF7z"
      },
      "execution_count": null,
      "outputs": []
    },
    {
      "cell_type": "code",
      "source": [
        "df.columns"
      ],
      "metadata": {
        "id": "Gp7SlhmLoNpM"
      },
      "execution_count": null,
      "outputs": []
    },
    {
      "cell_type": "code",
      "source": [
        "# defining functions to create plot\n",
        "\n",
        "def violin(col):\n",
        "    fig = px.violin(df, y=col, x=\"class\", color=\"class\", box=True, template = 'plotly_dark')\n",
        "    return fig.show()\n",
        "\n",
        "def kde(col):\n",
        "    grid = sns.FacetGrid(df, hue=\"class\", height = 6, aspect=2)\n",
        "    grid.map(sns.kdeplot, col)\n",
        "    grid.add_legend()\n",
        "    \n",
        "def scatter(col1, col2):\n",
        "    fig = px.scatter(df, x=col1, y=col2, color=\"class\", template = 'plotly_dark')\n",
        "    return fig.show()"
      ],
      "metadata": {
        "id": "ojhO913koTMI"
      },
      "execution_count": null,
      "outputs": []
    },
    {
      "cell_type": "code",
      "source": [
        "violin('red_blood_cell_count')"
      ],
      "metadata": {
        "id": "Is6mDb1DoXe2"
      },
      "execution_count": null,
      "outputs": []
    },
    {
      "cell_type": "code",
      "source": [
        "kde('red_blood_cell_count')"
      ],
      "metadata": {
        "id": "BEsi_Z3zoatG"
      },
      "execution_count": null,
      "outputs": []
    },
    {
      "cell_type": "code",
      "source": [
        "violin('white_blood_cell_count')"
      ],
      "metadata": {
        "id": "Vai8coZjob5q"
      },
      "execution_count": null,
      "outputs": []
    },
    {
      "cell_type": "code",
      "source": [
        "kde('white_blood_cell_count')"
      ],
      "metadata": {
        "id": "-88vdGB2ocHK"
      },
      "execution_count": null,
      "outputs": []
    },
    {
      "cell_type": "code",
      "source": [
        "violin('packed_cell_volume')"
      ],
      "metadata": {
        "id": "pH34ASLaocSI"
      },
      "execution_count": null,
      "outputs": []
    },
    {
      "cell_type": "code",
      "source": [
        "kde('packed_cell_volume')"
      ],
      "metadata": {
        "id": "JfDvO4FfocdM"
      },
      "execution_count": null,
      "outputs": []
    },
    {
      "cell_type": "code",
      "source": [
        "violin('haemoglobin')"
      ],
      "metadata": {
        "id": "HuChrxptochq"
      },
      "execution_count": null,
      "outputs": []
    },
    {
      "cell_type": "code",
      "source": [
        "kde('haemoglobin')"
      ],
      "metadata": {
        "id": "JRj_9PhEoclO"
      },
      "execution_count": null,
      "outputs": []
    },
    {
      "cell_type": "code",
      "source": [
        "violin('albumin')"
      ],
      "metadata": {
        "id": "f9T32WwjocoW"
      },
      "execution_count": null,
      "outputs": []
    },
    {
      "cell_type": "code",
      "source": [
        "kde('albumin')"
      ],
      "metadata": {
        "id": "qou2DR3cocrl"
      },
      "execution_count": null,
      "outputs": []
    },
    {
      "cell_type": "code",
      "source": [
        "violin('blood_glucose_random')"
      ],
      "metadata": {
        "id": "lb6hfafGocul"
      },
      "execution_count": null,
      "outputs": []
    },
    {
      "cell_type": "code",
      "source": [
        "kde('blood_glucose_random')"
      ],
      "metadata": {
        "id": "_8BBMEJFocyC"
      },
      "execution_count": null,
      "outputs": []
    },
    {
      "cell_type": "code",
      "source": [
        "violin('sodium')"
      ],
      "metadata": {
        "id": "r5IBPCn9oc1D"
      },
      "execution_count": null,
      "outputs": []
    },
    {
      "cell_type": "code",
      "source": [
        "kde('sodium')"
      ],
      "metadata": {
        "id": "1U3YzEiQoc4i"
      },
      "execution_count": null,
      "outputs": []
    },
    {
      "cell_type": "code",
      "source": [
        "violin('blood_urea')"
      ],
      "metadata": {
        "id": "qy8ZZMCjoc8E"
      },
      "execution_count": null,
      "outputs": []
    },
    {
      "cell_type": "code",
      "source": [
        "kde('blood_urea')"
      ],
      "metadata": {
        "id": "PELjc6_JpDIc"
      },
      "execution_count": null,
      "outputs": []
    },
    {
      "cell_type": "code",
      "source": [
        "violin('specific_gravity')"
      ],
      "metadata": {
        "id": "d9ty57ezpDRz"
      },
      "execution_count": null,
      "outputs": []
    },
    {
      "cell_type": "code",
      "source": [
        "kde('specific_gravity')"
      ],
      "metadata": {
        "id": "r6VzWVy6pDYW"
      },
      "execution_count": null,
      "outputs": []
    },
    {
      "cell_type": "code",
      "source": [
        "scatter('haemoglobin', 'packed_cell_volume')"
      ],
      "metadata": {
        "id": "vSgsnIwHpDeG"
      },
      "execution_count": null,
      "outputs": []
    },
    {
      "cell_type": "code",
      "source": [
        "scatter('red_blood_cell_count', 'packed_cell_volume')"
      ],
      "metadata": {
        "id": "3gCkKOrUpDhu"
      },
      "execution_count": null,
      "outputs": []
    },
    {
      "cell_type": "code",
      "source": [
        "scatter('red_blood_cell_count', 'albumin')"
      ],
      "metadata": {
        "id": "Er0BLqyapDr2"
      },
      "execution_count": null,
      "outputs": []
    },
    {
      "cell_type": "code",
      "source": [
        "scatter('sugar', 'blood_glucose_random')"
      ],
      "metadata": {
        "id": "1TeU6JHLpT0D"
      },
      "execution_count": null,
      "outputs": []
    },
    {
      "cell_type": "code",
      "source": [
        "scatter('packed_cell_volume','blood_urea')"
      ],
      "metadata": {
        "id": "pTNVWGLfpT5r"
      },
      "execution_count": null,
      "outputs": []
    },
    {
      "cell_type": "code",
      "source": [
        "px.bar(df, x=\"specific_gravity\", y=\"packed_cell_volume\", color='class', barmode='group', template = 'plotly_dark', height = 400)"
      ],
      "metadata": {
        "id": "ZhDss5eLpT88"
      },
      "execution_count": null,
      "outputs": []
    },
    {
      "cell_type": "code",
      "source": [
        "px.bar(df, x=\"specific_gravity\", y=\"albumin\", color='class', barmode='group', template = 'plotly_dark', height = 400)"
      ],
      "metadata": {
        "id": "RUenCYvQpT_0"
      },
      "execution_count": null,
      "outputs": []
    },
    {
      "cell_type": "code",
      "source": [
        "px.bar(df, x=\"blood_pressure\", y=\"packed_cell_volume\", color='class', barmode='group', template = 'plotly_dark', height = 400)"
      ],
      "metadata": {
        "id": "qfa7J1c3pUCt"
      },
      "execution_count": null,
      "outputs": []
    },
    {
      "cell_type": "code",
      "source": [
        "px.bar(df, x=\"blood_pressure\", y=\"haemoglobin\", color='class', barmode='group', template = 'plotly_dark', height = 400)"
      ],
      "metadata": {
        "id": "vyDzmp4QpUF1"
      },
      "execution_count": null,
      "outputs": []
    },
    {
      "cell_type": "code",
      "source": [
        "# checking for null values\n",
        "\n",
        "df.isna().sum().sort_values(ascending = True)"
      ],
      "metadata": {
        "id": "8SroUDG0pUIv"
      },
      "execution_count": null,
      "outputs": []
    },
    {
      "cell_type": "code",
      "source": [
        "df[num_cols].isnull().sum()"
      ],
      "metadata": {
        "id": "B43GrHxipUMI"
      },
      "execution_count": null,
      "outputs": []
    },
    {
      "cell_type": "code",
      "source": [
        "df[cat_cols].isnull().sum()"
      ],
      "metadata": {
        "id": "FJDgypwHpqLX"
      },
      "execution_count": null,
      "outputs": []
    },
    {
      "cell_type": "code",
      "source": [
        "# filling null values, we will use two methods, random sampling for higher null values and \n",
        "# mean/mode sampling for lower null values\n",
        "\n",
        "def random_value_imputation(feature):\n",
        "    random_sample = df[feature].dropna().sample(df[feature].isna().sum())\n",
        "    random_sample.index = df[df[feature].isnull()].index\n",
        "    df.loc[df[feature].isnull(), feature] = random_sample\n",
        "    \n",
        "def impute_mode(feature):\n",
        "    mode = df[feature].mode()[0]\n",
        "    df[feature] = df[feature].fillna(mode)"
      ],
      "metadata": {
        "id": "wjXtIAv5pqOe"
      },
      "execution_count": null,
      "outputs": []
    },
    {
      "cell_type": "code",
      "source": [
        "# filling num_cols null values using random sampling method\n",
        "\n",
        "for col in num_cols:\n",
        "    random_value_imputation(col)"
      ],
      "metadata": {
        "id": "u6jNlQ34pqRh"
      },
      "execution_count": null,
      "outputs": []
    },
    {
      "cell_type": "code",
      "source": [
        "df[num_cols].isnull().sum()"
      ],
      "metadata": {
        "id": "1NowdbtopqU3"
      },
      "execution_count": null,
      "outputs": []
    },
    {
      "cell_type": "code",
      "source": [
        "# filling \"red_blood_cells\" and \"pus_cell\" using random sampling method and rest of cat_cols using mode imputation\n",
        "\n",
        "random_value_imputation('red_blood_cells')\n",
        "random_value_imputation('pus_cell')\n",
        "\n",
        "for col in cat_cols:\n",
        "    impute_mode(col)"
      ],
      "metadata": {
        "id": "jVqDhTPzpqX_"
      },
      "execution_count": null,
      "outputs": []
    },
    {
      "cell_type": "code",
      "source": [
        "df[cat_cols].isnull().sum()"
      ],
      "metadata": {
        "id": "-XsJan5_pqbe"
      },
      "execution_count": null,
      "outputs": []
    },
    {
      "cell_type": "code",
      "source": [
        "for col in cat_cols:\n",
        "    print(f\"{col} has {df[col].nunique()} categories\\n\")"
      ],
      "metadata": {
        "id": "GNagycIWp8Xn"
      },
      "execution_count": null,
      "outputs": []
    },
    {
      "cell_type": "code",
      "source": [
        "from sklearn.preprocessing import LabelEncoder\n",
        "\n",
        "le = LabelEncoder()\n",
        "\n",
        "for col in cat_cols:\n",
        "    df[col] = le.fit_transform(df[col])"
      ],
      "metadata": {
        "id": "OXI7LMCnp8ag"
      },
      "execution_count": null,
      "outputs": []
    },
    {
      "cell_type": "code",
      "source": [
        "df.head()"
      ],
      "metadata": {
        "id": "gVZodHWTp8eC"
      },
      "execution_count": null,
      "outputs": []
    },
    {
      "cell_type": "code",
      "source": [
        "ind_col = [col for col in df.columns if col != 'class']\n",
        "dep_col = 'class'\n",
        "\n",
        "X = df[ind_col]\n",
        "y = df[dep_col]"
      ],
      "metadata": {
        "id": "OobPsb3MqHvz"
      },
      "execution_count": null,
      "outputs": []
    },
    {
      "cell_type": "code",
      "source": [
        "# splitting data into training and test set\n",
        "\n",
        "from sklearn.model_selection import train_test_split\n",
        "\n",
        "X_train, X_test, y_train, y_test = train_test_split(X, y, test_size = 0.30, random_state = 0)"
      ],
      "metadata": {
        "id": "1LUqadZoqHy6"
      },
      "execution_count": null,
      "outputs": []
    },
    {
      "cell_type": "markdown",
      "source": [
        "knn algorithm"
      ],
      "metadata": {
        "id": "1IzQJvG2qULZ"
      }
    },
    {
      "cell_type": "code",
      "source": [
        "from sklearn.neighbors import KNeighborsClassifier\n",
        "from sklearn.metrics import accuracy_score, confusion_matrix, classification_report\n",
        "\n",
        "knn = KNeighborsClassifier()\n",
        "knn.fit(X_train, y_train)\n",
        "\n",
        "# accuracy score, confusion matrix and classification report of knn\n",
        "\n",
        "knn_acc = accuracy_score(y_test, knn.predict(X_test))\n",
        "\n",
        "print(f\"Training Accuracy of KNN is {accuracy_score(y_train, knn.predict(X_train))}\")\n",
        "print(f\"Test Accuracy of KNN is {knn_acc} \\n\")\n",
        "\n",
        "print(f\"Confusion Matrix :- \\n{confusion_matrix(y_test, knn.predict(X_test))}\\n\")\n",
        "print(f\"Classification Report :- \\n {classification_report(y_test, knn.predict(X_test))}\")"
      ],
      "metadata": {
        "id": "4hC1PsoCqH2T"
      },
      "execution_count": null,
      "outputs": []
    },
    {
      "cell_type": "markdown",
      "source": [
        "svm"
      ],
      "metadata": {
        "id": "QDDIRtRPuotk"
      }
    },
    {
      "cell_type": "code",
      "source": [
        "from sklearn.svm import SVC # \"Support vector classifier\"  \n",
        "svc = SVC(kernel='linear', random_state=0)  \n",
        "svc.fit(X_train, y_train)  \n",
        "from sklearn.svm import SVC\n",
        "\n",
        "\n",
        "# accuracy score, confusion matrix and classification report of knn\n",
        "\n",
        "svc_acc = accuracy_score(y_test, svc.predict(X_test))\n",
        "\n",
        "print(f\"Training Accuracy of SVM is {accuracy_score(y_train, svc.predict(X_train))}\")\n",
        "print(f\"Test Accuracy of SVM is {svc_acc} \\n\")\n",
        "\n",
        "print(f\"Confusion Matrix :- \\n{confusion_matrix(y_test, svc.predict(X_test))}\\n\")\n",
        "print(f\"Classification Report :- \\n {classification_report(y_test, svc.predict(X_test))}\")"
      ],
      "metadata": {
        "id": "ypacM_OUuqC_"
      },
      "execution_count": null,
      "outputs": []
    },
    {
      "cell_type": "markdown",
      "source": [
        "Random forest"
      ],
      "metadata": {
        "id": "xfHSsvS9qzOw"
      }
    },
    {
      "cell_type": "code",
      "source": [
        "from sklearn.ensemble import RandomForestClassifier\n",
        "\n",
        "rd_clf = RandomForestClassifier(criterion = 'entropy', max_depth = 11, max_features = 'auto', min_samples_leaf = 2, min_samples_split = 3, n_estimators = 130)\n",
        "rd_clf.fit(X_train, y_train)\n",
        "\n",
        "# accuracy score, confusion matrix and classification report of random forest\n",
        "\n",
        "rd_clf_acc = accuracy_score(y_test, rd_clf.predict(X_test))\n",
        "\n",
        "print(f\"Training Accuracy of Random Forest Classifier is {accuracy_score(y_train, rd_clf.predict(X_train))}\")\n",
        "print(f\"Test Accuracy of Random Forest Classifier is {rd_clf_acc} \\n\")\n",
        "\n",
        "print(f\"Confusion Matrix :- \\n{confusion_matrix(y_test, rd_clf.predict(X_test))}\\n\")\n",
        "print(f\"Classification Report :- \\n {classification_report(y_test, rd_clf.predict(X_test))}\")"
      ],
      "metadata": {
        "id": "bc8tbDrpqyaK"
      },
      "execution_count": null,
      "outputs": []
    },
    {
      "cell_type": "markdown",
      "source": [
        "dicision tree"
      ],
      "metadata": {
        "id": "PFa_gm52qaaS"
      }
    },
    {
      "cell_type": "code",
      "source": [
        "from sklearn.tree import DecisionTreeClassifier\n",
        "\n",
        "dtc = DecisionTreeClassifier()\n",
        "dtc.fit(X_train, y_train)\n",
        "\n",
        "# accuracy score, confusion matrix and classification report of decision tree\n",
        "\n",
        "dtc_acc = accuracy_score(y_test, dtc.predict(X_test))\n",
        "\n",
        "print(f\"Training Accuracy of Decision Tree Classifier is {accuracy_score(y_train, dtc.predict(X_train))}\")\n",
        "print(f\"Test Accuracy of Decision Tree Classifier is {dtc_acc} \\n\")\n",
        "\n",
        "print(f\"Confusion Matrix :- \\n{confusion_matrix(y_test, dtc.predict(X_test))}\\n\")\n",
        "print(f\"Classification Report :- \\n {classification_report(y_test, dtc.predict(X_test))}\")\n"
      ],
      "metadata": {
        "id": "pWzH9U51qH6B"
      },
      "execution_count": null,
      "outputs": []
    },
    {
      "cell_type": "code",
      "source": [
        "# hyper parameter tuning of decision tree \n",
        "\n",
        "from sklearn.model_selection import GridSearchCV\n",
        "grid_param = {\n",
        "    'criterion' : ['gini', 'entropy'],\n",
        "    'max_depth' : [3, 5, 7, 10],\n",
        "    'splitter' : ['best', 'random'],\n",
        "    'min_samples_leaf' : [1, 2, 3, 5, 7],\n",
        "    'min_samples_split' : [1, 2, 3, 5, 7],\n",
        "    'max_features' : ['auto', 'sqrt', 'log2']\n",
        "}\n",
        "\n",
        "grid_search_dtc = GridSearchCV(dtc, grid_param, cv = 5, n_jobs = -1, verbose = 1)\n",
        "grid_search_dtc.fit(X_train, y_train)"
      ],
      "metadata": {
        "id": "_NCAHQsIqkod"
      },
      "execution_count": null,
      "outputs": []
    },
    {
      "cell_type": "code",
      "source": [
        "# best parameters and best score\n",
        "\n",
        "print(grid_search_dtc.best_params_)\n",
        "print(grid_search_dtc.best_score_)"
      ],
      "metadata": {
        "id": "q_nlcMRzqpUr"
      },
      "execution_count": null,
      "outputs": []
    },
    {
      "cell_type": "code",
      "source": [
        "# best estimator\n",
        "\n",
        "dtc = grid_search_dtc.best_estimator_\n",
        "\n",
        "# accuracy score, confusion matrix and classification report of decision tree\n",
        "\n",
        "dtc_acc = accuracy_score(y_test, dtc.predict(X_test))\n",
        "\n",
        "print(f\"Training Accuracy of Decision Tree Classifier is {accuracy_score(y_train, dtc.predict(X_train))}\")\n",
        "print(f\"Test Accuracy of Decision Tree Classifier is {dtc_acc} \\n\")\n",
        "\n",
        "print(f\"Confusion Matrix :- \\n{confusion_matrix(y_test, dtc.predict(X_test))}\\n\")\n",
        "print(f\"Classification Report :- \\n {classification_report(y_test, dtc.predict(X_test))}\")"
      ],
      "metadata": {
        "id": "uj6eLPGFqlHO"
      },
      "execution_count": null,
      "outputs": []
    },
    {
      "cell_type": "markdown",
      "source": [
        "ADA boost classicifier"
      ],
      "metadata": {
        "id": "UKlCcky0rMaH"
      }
    },
    {
      "cell_type": "code",
      "source": [
        "from sklearn.ensemble import AdaBoostClassifier\n",
        "\n",
        "ada = AdaBoostClassifier(base_estimator = dtc)\n",
        "ada.fit(X_train, y_train)\n",
        "\n",
        "# accuracy score, confusion matrix and classification report of ada boost\n",
        "\n",
        "ada_acc = accuracy_score(y_test, ada.predict(X_test))\n",
        "\n",
        "print(f\"Training Accuracy of Ada Boost Classifier is {accuracy_score(y_train, ada.predict(X_train))}\")\n",
        "print(f\"Test Accuracy of Ada Boost Classifier is {ada_acc} \\n\")\n",
        "\n",
        "print(f\"Confusion Matrix :- \\n{confusion_matrix(y_test, ada.predict(X_test))}\\n\")\n",
        "print(f\"Classification Report :- \\n {classification_report(y_test, ada.predict(X_test))}\")"
      ],
      "metadata": {
        "id": "rcHw_ICnqlKk"
      },
      "execution_count": null,
      "outputs": []
    },
    {
      "cell_type": "markdown",
      "source": [
        "Gradient Boosting Classifier"
      ],
      "metadata": {
        "id": "kXWsMJ46rVZ3"
      }
    },
    {
      "cell_type": "code",
      "source": [
        "from sklearn.ensemble import GradientBoostingClassifier\n",
        "\n",
        "gb = GradientBoostingClassifier()\n",
        "gb.fit(X_train, y_train)\n",
        "\n",
        "# accuracy score, confusion matrix and classification report of gradient boosting classifier\n",
        "\n",
        "gb_acc = accuracy_score(y_test, gb.predict(X_test))\n",
        "\n",
        "print(f\"Training Accuracy of Gradient Boosting Classifier is {accuracy_score(y_train, gb.predict(X_train))}\")\n",
        "print(f\"Test Accuracy of Gradient Boosting Classifier is {gb_acc} \\n\")\n",
        "\n",
        "print(f\"Confusion Matrix :- \\n{confusion_matrix(y_test, gb.predict(X_test))}\\n\")\n",
        "print(f\"Classification Report :- \\n {classification_report(y_test, gb.predict(X_test))}\")"
      ],
      "metadata": {
        "id": "lmH_I7B_qlNv"
      },
      "execution_count": null,
      "outputs": []
    },
    {
      "cell_type": "markdown",
      "source": [
        "XgBoost"
      ],
      "metadata": {
        "id": "yExv9oeArjwU"
      }
    },
    {
      "cell_type": "code",
      "source": [
        "from xgboost import XGBClassifier\n",
        "\n",
        "xgb = XGBClassifier(objective = 'binary:logistic', learning_rate = 0.5, max_depth = 5, n_estimators = 150)\n",
        "xgb.fit(X_train, y_train)\n",
        "\n",
        "# accuracy score, confusion matrix and classification report of xgboost\n",
        "\n",
        "xgb_acc = accuracy_score(y_test, xgb.predict(X_test))\n",
        "\n",
        "print(f\"Training Accuracy of XgBoost is {accuracy_score(y_train, xgb.predict(X_train))}\")\n",
        "print(f\"Test Accuracy of XgBoost is {xgb_acc} \\n\")\n",
        "\n",
        "print(f\"Confusion Matrix :- \\n{confusion_matrix(y_test, xgb.predict(X_test))}\\n\")\n",
        "print(f\"Classification Report :- \\n {classification_report(y_test, xgb.predict(X_test))}\")"
      ],
      "metadata": {
        "id": "zW1FD7kSqlQ1"
      },
      "execution_count": null,
      "outputs": []
    },
    {
      "cell_type": "code",
      "source": [
        "!pip install catboost"
      ],
      "metadata": {
        "id": "gjulsLpuqlTz"
      },
      "execution_count": null,
      "outputs": []
    },
    {
      "cell_type": "code",
      "source": [
        "from catboost import CatBoostClassifier\n",
        "\n",
        "cat = CatBoostClassifier(iterations=10)\n",
        "cat.fit(X_train, y_train)"
      ],
      "metadata": {
        "id": "guCDVNcDqlXP"
      },
      "execution_count": null,
      "outputs": []
    },
    {
      "cell_type": "code",
      "source": [
        "# accuracy score, confusion matrix and classification report of cat boost\n",
        "\n",
        "cat_acc = accuracy_score(y_test, cat.predict(X_test))\n",
        "\n",
        "print(f\"Training Accuracy of Cat Boost Classifier is {accuracy_score(y_train, cat.predict(X_train))}\")\n",
        "print(f\"Test Accuracy of Cat Boost Classifier is {cat_acc} \\n\")\n",
        "\n",
        "print(f\"Confusion Matrix :- \\n{confusion_matrix(y_test, cat.predict(X_test))}\\n\")\n",
        "print(f\"Classification Report :- \\n {classification_report(y_test, cat.predict(X_test))}\")"
      ],
      "metadata": {
        "id": "J9cckunaqH9e"
      },
      "execution_count": null,
      "outputs": []
    },
    {
      "cell_type": "markdown",
      "source": [
        "Extra Trees Classifier"
      ],
      "metadata": {
        "id": "QIohXHYFr4Qd"
      }
    },
    {
      "cell_type": "code",
      "source": [
        "from sklearn.ensemble import ExtraTreesClassifier\n",
        "\n",
        "etc = ExtraTreesClassifier()\n",
        "etc.fit(X_train, y_train)\n",
        "\n",
        "# accuracy score, confusion matrix and classification report of extra trees classifier\n",
        "\n",
        "etc_acc = accuracy_score(y_test, etc.predict(X_test))\n",
        "\n",
        "print(f\"Training Accuracy of Extra Trees Classifier is {accuracy_score(y_train, etc.predict(X_train))}\")\n",
        "print(f\"Test Accuracy of Extra Trees Classifier is {etc_acc} \\n\")\n",
        "\n",
        "print(f\"Confusion Matrix :- \\n{confusion_matrix(y_test, etc.predict(X_test))}\\n\")\n",
        "print(f\"Classification Report :- \\n {classification_report(y_test, etc.predict(X_test))}\")"
      ],
      "metadata": {
        "id": "XMR86I6Kr5Sz"
      },
      "execution_count": null,
      "outputs": []
    },
    {
      "cell_type": "code",
      "source": [
        "models = pd.DataFrame({\n",
        "    'Model' : [ 'KNN', 'SVM','Decision Tree Classifier', 'Random Forest Classifier','Ada Boost Classifier',\n",
        "             'Gradient Boosting Classifier', 'XgBoost', 'Cat Boost', 'Extra Trees Classifier'],\n",
        "    'Score' : [knn_acc, svc_acc, dtc_acc, rd_clf_acc, ada_acc, gb_acc, xgb_acc, cat_acc, etc_acc]\n",
        "})\n",
        "\n",
        "\n",
        "models.sort_values(by = 'Score', ascending = False)"
      ],
      "metadata": {
        "id": "l0-ssStQr5V6"
      },
      "execution_count": null,
      "outputs": []
    },
    {
      "cell_type": "code",
      "source": [
        "px.bar(data_frame = models, x = 'Score', y = 'Model', color = 'Score', template = 'plotly_dark', \n",
        "       title = 'Models Comparison according the accuracy')"
      ],
      "metadata": {
        "id": "c50hGZscsE2Z"
      },
      "execution_count": null,
      "outputs": []
    },
    {
      "cell_type": "code",
      "source": [],
      "metadata": {
        "id": "IsBBMRoEr5Y6"
      },
      "execution_count": null,
      "outputs": []
    },
    {
      "cell_type": "code",
      "source": [],
      "metadata": {
        "id": "T7kpwXgCr5cj"
      },
      "execution_count": null,
      "outputs": []
    }
  ]
}
